{
 "cells": [
  {
   "cell_type": "code",
   "execution_count": 6,
   "id": "7f8623ae",
   "metadata": {},
   "outputs": [
    {
     "name": "stdout",
     "output_type": "stream",
     "text": [
      "1/1 [==============================] - 0s 53ms/step\n",
      "[[1.0000000e+00 1.0641970e-17 1.7592266e-12 3.6711346e-19 4.4121307e-19\n",
      "  1.8262852e-14 6.1975113e-12 1.1711813e-14 5.0637394e-10 2.7724546e-12]]\n",
      "1/1 [==============================] - 0s 17ms/step\n",
      "[[2.4917088e-10 9.9976009e-01 1.3111265e-06 2.1737113e-08 9.0895455e-08\n",
      "  9.3907556e-07 2.3508941e-04 5.1348117e-09 2.4486098e-06 4.5918522e-10]]\n",
      "1/1 [==============================] - 0s 16ms/step\n",
      "[[1.55988611e-10 1.48565285e-08 9.99990106e-01 3.48837420e-06\n",
      "  1.79694652e-13 3.87173810e-16 3.41927613e-15 1.10914505e-06\n",
      "  5.28426381e-06 3.37601336e-11]]\n",
      "1/1 [==============================] - 0s 17ms/step\n",
      "[[6.1019656e-09 1.2880452e-10 1.7472412e-05 9.9981397e-01 8.8599359e-13\n",
      "  6.5538508e-05 1.7593281e-09 1.4509633e-11 3.5314154e-11 1.0301937e-04]]\n",
      "1/1 [==============================] - 0s 16ms/step\n",
      "[[1.1062213e-11 8.2784821e-13 1.9456865e-11 1.4016800e-10 9.9999964e-01\n",
      "  6.9351846e-10 1.0945117e-12 1.2004395e-07 6.6777318e-08 1.5515947e-07]]\n",
      "1/1 [==============================] - 0s 17ms/step\n",
      "[[5.61475800e-16 1.24912224e-18 2.68544331e-16 1.61019939e-12\n",
      "  1.23687994e-17 1.00000000e+00 8.35287810e-19 2.08621216e-18\n",
      "  6.42477337e-14 7.26153133e-13]]\n",
      "1/1 [==============================] - 0s 15ms/step\n",
      "[[1.4059653e-09 4.3012458e-14 6.7409906e-15 1.1206856e-16 3.6507321e-11\n",
      "  1.9055557e-11 1.0000000e+00 8.6574725e-18 2.1831118e-13 5.7935814e-14]]\n",
      "1/1 [==============================] - 0s 17ms/step\n",
      "[[9.10107616e-08 3.60086894e-08 7.62391539e-11 1.01688796e-10\n",
      "  5.61130022e-08 4.19142268e-08 1.23757765e-14 9.99990225e-01\n",
      "  2.41333231e-10 9.50253707e-06]]\n",
      "1/1 [==============================] - 0s 20ms/step\n",
      "[[2.8380433e-05 1.3553810e-06 1.6209298e-05 1.6655436e-06 1.6096469e-04\n",
      "  2.3872168e-08 1.9169308e-09 3.6023029e-09 9.9918765e-01 6.0375809e-04]]\n"
     ]
    }
   ],
   "source": [
    "#Importing the Keras libraries and packages\n",
    "from tensorflow.keras.models import load_model\n",
    "from PIL import Image #used for manipulating image uploaded by the user.\n",
    "import numpy as np #used for numerrical analysis\n",
    "model = load_model(r'C:\\Users\\Kishore Kumar\\models\\mnistCNN.h5')\n",
    "\n",
    "for index in range(9):\n",
    "    img = Image.open(\"C://Users//Kishore Kumar//data//\"+str(index)+'.png').convert(\"L\") # convert image to monochrome\n",
    "    img = img.resize( (28, 28) ) # resizing of input image\n",
    "    im2arr = np.array(img) #converting to image\n",
    "    im2arr = im2arr.reshape(1, 28, 28, 1) #reshaping according to our requirement\n",
    "    # Predicting the Test set results\n",
    "    y_pred = model.predict(im2arr) #predicting the results\n",
    "    print(y_pred)\n"
   ]
  },
  {
   "cell_type": "code",
   "execution_count": 7,
   "id": "402f588a",
   "metadata": {},
   "outputs": [
    {
     "name": "stdout",
     "output_type": "stream",
     "text": [
      "[8]\n"
     ]
    }
   ],
   "source": [
    "import numpy as np\n",
    "print(np.argmax(y_pred, axis=1)) #printing our Labels from first 4 images"
   ]
  },
  {
   "cell_type": "code",
   "execution_count": null,
   "id": "07982ef9",
   "metadata": {},
   "outputs": [],
   "source": []
  }
 ],
 "metadata": {
  "kernelspec": {
   "display_name": "Python 3 (ipykernel)",
   "language": "python",
   "name": "python3"
  },
  "language_info": {
   "codemirror_mode": {
    "name": "ipython",
    "version": 3
   },
   "file_extension": ".py",
   "mimetype": "text/x-python",
   "name": "python",
   "nbconvert_exporter": "python",
   "pygments_lexer": "ipython3",
   "version": "3.10.4"
  }
 },
 "nbformat": 4,
 "nbformat_minor": 5
}
